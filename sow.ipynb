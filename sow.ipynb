{
 "cells": [
  {
   "cell_type": "code",
   "execution_count": 16,
   "metadata": {
    "collapsed": true,
    "pycharm": {
     "name": "#%%\n"
    }
   },
   "outputs": [
    {
     "name": "stdout",
     "output_type": "stream",
     "text": [
      "45983\n"
     ]
    }
   ],
   "source": [
    "def processFile(filePath): # process the file\n",
    "    ret = set() #declaring set and name it as ret\n",
    "    try:\n",
    "        f = open(filePath)\n",
    "        for line in f: #processing 1 line\n",
    "            start,end = map(int,line.split()) #considering from start to end-1 and load in set\n",
    "            for i in range(start,end): # like above process the whole file\n",
    "                ret.add(i) #add\n",
    "    finally:\n",
    "        f.close()\n",
    "    return ret\n",
    "\n",
    "def Common(set1, set2): #function declared\n",
    "    ret = set1.intersection(set2) # checkinh common numbersbetween set1 and set2\n",
    "    return len(ret) #length of set\n",
    "\n",
    "def main(): # main method\n",
    "    file1 = input()  #loading file1\n",
    "    set1 = processFile(file1) #processing file1\n",
    "    file2 = input() #loading file2\n",
    "    set2 = processFile(file2) # processing file2\n",
    "    print(Common(set1,set2)) #getting common numbers\n",
    "\n",
    "if __name__ == \"__main__\":\n",
    "    main()"
   ]
  }
 ],
 "metadata": {
  "kernelspec": {
   "display_name": "Python 3",
   "language": "python",
   "name": "python3"
  },
  "language_info": {
   "codemirror_mode": {
    "name": "ipython",
    "version": 2
   },
   "file_extension": ".py",
   "mimetype": "text/x-python",
   "name": "python",
   "nbconvert_exporter": "python",
   "pygments_lexer": "ipython2",
   "version": "2.7.6"
  }
 },
 "nbformat": 4,
 "nbformat_minor": 0
}