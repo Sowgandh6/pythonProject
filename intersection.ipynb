{
 "cells": [
  {
   "cell_type": "code",
   "execution_count": 1,
   "metadata": {
    "collapsed": true
   },
   "outputs": [
    {
     "ename": "UnboundLocalError",
     "evalue": "local variable 'f' referenced before assignment",
     "output_type": "error",
     "traceback": [
      "\u001B[1;31m---------------------------------------------------------------------------\u001B[0m",
      "\u001B[1;31mFileNotFoundError\u001B[0m                         Traceback (most recent call last)",
      "Input \u001B[1;32mIn [1]\u001B[0m, in \u001B[0;36mprocessFile\u001B[1;34m(filePath)\u001B[0m\n\u001B[0;32m      3\u001B[0m \u001B[38;5;28;01mtry\u001B[39;00m:\n\u001B[1;32m----> 4\u001B[0m     f \u001B[38;5;241m=\u001B[39m \u001B[38;5;28;43mopen\u001B[39;49m\u001B[43m(\u001B[49m\u001B[43mfilePath\u001B[49m\u001B[43m)\u001B[49m\n\u001B[0;32m      5\u001B[0m     \u001B[38;5;28;01mfor\u001B[39;00m line \u001B[38;5;129;01min\u001B[39;00m f:\n",
      "\u001B[1;31mFileNotFoundError\u001B[0m: [Errno 2] No such file or directory: ''",
      "\nDuring handling of the above exception, another exception occurred:\n",
      "\u001B[1;31mUnboundLocalError\u001B[0m                         Traceback (most recent call last)",
      "Input \u001B[1;32mIn [1]\u001B[0m, in \u001B[0;36m<cell line: 24>\u001B[1;34m()\u001B[0m\n\u001B[0;32m     22\u001B[0m     \u001B[38;5;28mprint\u001B[39m(Common(set1,set2))\n\u001B[0;32m     24\u001B[0m \u001B[38;5;28;01mif\u001B[39;00m \u001B[38;5;18m__name__\u001B[39m \u001B[38;5;241m==\u001B[39m \u001B[38;5;124m\"\u001B[39m\u001B[38;5;124m__main__\u001B[39m\u001B[38;5;124m\"\u001B[39m:\n\u001B[1;32m---> 25\u001B[0m     \u001B[43mmain\u001B[49m\u001B[43m(\u001B[49m\u001B[43m)\u001B[49m\n",
      "Input \u001B[1;32mIn [1]\u001B[0m, in \u001B[0;36mmain\u001B[1;34m()\u001B[0m\n\u001B[0;32m     17\u001B[0m \u001B[38;5;28;01mdef\u001B[39;00m \u001B[38;5;21mmain\u001B[39m():\n\u001B[0;32m     18\u001B[0m     file1 \u001B[38;5;241m=\u001B[39m \u001B[38;5;28minput\u001B[39m()\n\u001B[1;32m---> 19\u001B[0m     set1 \u001B[38;5;241m=\u001B[39m \u001B[43mprocessFile\u001B[49m\u001B[43m(\u001B[49m\u001B[43mfile1\u001B[49m\u001B[43m)\u001B[49m\n\u001B[0;32m     20\u001B[0m     file2 \u001B[38;5;241m=\u001B[39m \u001B[38;5;28minput\u001B[39m()\n\u001B[0;32m     21\u001B[0m     set2 \u001B[38;5;241m=\u001B[39m processFile(file2)\n",
      "Input \u001B[1;32mIn [1]\u001B[0m, in \u001B[0;36mprocessFile\u001B[1;34m(filePath)\u001B[0m\n\u001B[0;32m      8\u001B[0m             ret\u001B[38;5;241m.\u001B[39madd(i)\n\u001B[0;32m      9\u001B[0m \u001B[38;5;28;01mfinally\u001B[39;00m:\n\u001B[1;32m---> 10\u001B[0m     \u001B[43mf\u001B[49m\u001B[38;5;241m.\u001B[39mclose()\n\u001B[0;32m     11\u001B[0m \u001B[38;5;28;01mreturn\u001B[39;00m ret\n",
      "\u001B[1;31mUnboundLocalError\u001B[0m: local variable 'f' referenced before assignment"
     ]
    }
   ],
   "source": [
    "def processFile(filePath):\n",
    "    ret = set()\n",
    "    try:\n",
    "        f = open(filePath)\n",
    "        for line in f:\n",
    "            start,end = map(int,line.split())\n",
    "            for i in range(start,end):\n",
    "                ret.add(i)\n",
    "    finally:\n",
    "        f.close()\n",
    "    return ret\n",
    "\n",
    "def Common(set1, set2):\n",
    "    ret = set1.intersection(set2)\n",
    "    return len(ret)\n",
    "\n",
    "def main():\n",
    "    file1 = input()\n",
    "    set1 = processFile(file1)\n",
    "    file2 = input()\n",
    "    set2 = processFile(file2)\n",
    "    print(Common(set1,set2))\n",
    "\n",
    "if __name__ == \"__main__\":\n",
    "    main()"
   ]
  }
 ],
 "metadata": {
  "kernelspec": {
   "display_name": "Python 3",
   "language": "python",
   "name": "python3"
  },
  "language_info": {
   "codemirror_mode": {
    "name": "ipython",
    "version": 2
   },
   "file_extension": ".py",
   "mimetype": "text/x-python",
   "name": "python",
   "nbconvert_exporter": "python",
   "pygments_lexer": "ipython2",
   "version": "2.7.6"
  }
 },
 "nbformat": 4,
 "nbformat_minor": 0
}